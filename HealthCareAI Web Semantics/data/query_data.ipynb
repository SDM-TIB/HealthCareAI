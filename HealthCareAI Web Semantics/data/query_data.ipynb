{
 "cells": [
  {
   "cell_type": "markdown",
   "metadata": {},
   "source": [
    "The Virtuoso Endpoint: https://labs.tib.eu/sdm/clarify_kg/sparql "
   ]
  },
  {
   "cell_type": "code",
   "execution_count": 1,
   "metadata": {},
   "outputs": [
    {
     "name": "stdout",
     "output_type": "stream",
     "text": [
      "age : {'49', '88', '89', '56', '72', '51', '64', '45', '75', '40', '68', '77', '62', '50', '71', '48', '78', '31', '60', '73', '22', '57', '54', '43', '36', '66', '87', '84', '37', '52', '35', '74', '61', '59', '63', '81', '39', '79', '46', '85', '42', '47', '53', '24', '90', '67', '55', '65', '69', '82', '34', '86', '76', '58', '44', '41', '83', '70', '80', '38'}\n",
      "gender : {'Female', 'Male'}\n",
      "smoking : {'CurrentSmoker', 'NonSmoker', 'PreviousSmoker'}\n",
      "familyType : {'Uncle', 'Greatgrandfather', 'Female_Cousin', 'Grandfather', 'Greatgrandmother', 'Grandson', 'Grandmother', 'Son', 'Granduncle', 'UNK', 'Nephew', 'Sister', 'Daughter', 'Aunt', 'Male_Cousin', 'Brother', 'Mother', 'Father', 'Niece', 'Halfbrother'}\n",
      "CancerType : {'Lung', 'Skin_no_melanoma', 'Liver', 'Esophagogastric', 'Unknown_origin_carcinoma', 'Central_nervous_system', 'Colorrectal', 'Germinal_tumors', 'Uterus/cervical', 'Renal', 'Gall_bladder', 'Melanoma', 'Ovarian', 'Prostate', 'Leukemia', 'Other', 'Sarcoma', 'Lymphoma', 'Bladder/urinary_tract', 'Pancreatic', 'Breast', 'Head_and_neck'}\n",
      "biomarker : {'EGFR', 'KRAS', 'FGFR1', 'BRAF', 'PDL1', 'RET', 'HER2Mut', 'ALK', 'HER2', 'MET', 'ROS1'}\n",
      "\n",
      "Age : {'Young', 'Old'}\n",
      "Gender : {'Female', 'Male'}\n",
      "SmokerType : {'Current-Smoker', 'Former-Smoker', 'Never-Smoker'}\n",
      "Family : {'M2', 'F2', 'M1', 'UNK', 'F1', 'F3', 'F4', 'M3', 'M4'}\n",
      "FamilyCancer : {'Minor', 'Major'}\n",
      "Biomarker : {'ALKorEGFR', 'Others'}\n",
      "\n",
      "1322\n",
      "Age : {'Young', 'Old'}\n",
      "Gender : {'Female', 'Male'}\n",
      "SmokerType : {'Current-Smoker', 'Former-Smoker', 'Never-Smoker'}\n",
      "FamilyCancer : {'MajorandMinor', 'Minor', 'Major'}\n",
      "Biomarker : {'ALKorEGFR', 'Others'}\n",
      "FamilyGender : {'Man', 'Woman', 'ManorWoman'}\n",
      "FamilyDegree : {'Degree3', 'Degree2', 'Degree1'}\n",
      "FamilyDiversity : {1, 2, 3}\n",
      "\n",
      "799\n",
      "500\n",
      "1808\n",
      "Age : {'Young', 'Old'}\n",
      "Gender : {'Female', 'Male'}\n",
      "SmokerType : {'Current-Smoker', 'Former-Smoker', 'Never-Smoker'}\n",
      "FamilyCancer : {'MajorandMinor', 'Minor', 'Major'}\n",
      "Biomarker : {'ALKorEGFR', 'Others'}\n",
      "FamilyGender : {'Man', 'Woman', 'ManorWoman'}\n",
      "FamilyDegree : {'Degree3', 'Degree2', 'Degree1'}\n",
      "FamilyDiversity : {1, 2, 3}\n",
      "\n"
     ]
    }
   ],
   "source": [
    "import sys , os\n",
    "sys.path.append(os.path.abspath(os.path.join(os.getcwd(), '..')))\n",
    "from data.data_utils import get_json_data, unique_values, query_generation, pre_process, digitalize, json2df,per_patient_data #\n",
    "from data.data_utils import save_json, load_json\n",
    "\n",
    "\n",
    "input_data = {\"Input\":{\"IndependentVariables\": {\"Age\", \"Gender\", \"SmokingHabits\", \"Biomarker\", \"FamilyRelationship\"}}} #, \"FamilyRelationship\", \"Biomarker\"}}}   # , \"FamilyDegree\"\n",
    "endpoint = \"https://labs.tib.eu/sdm/clarify_kg/sparql\"\n",
    "\n",
    "\n",
    "json_data = query_generation(input_data=input_data, endpoint=endpoint, test=False)\n",
    "process_json = get_json_data(json_ls=json_data, prefix=\"http://research.tib.eu/clarify2020/entity/\")\n",
    "unique_values(process_json)\n",
    "# print(len(set([e['ehr1'] for e in process_json if e['CancerType'] in ('Esophagogastric', 'Lung')])))\n",
    "print(\"\")\n",
    "\n",
    "\n",
    "preprocess_json = pre_process(process_json)\n",
    "unique_values(preprocess_json)\n",
    "print(\"\")\n",
    "print(len(set([e['Patient_id'] for e in preprocess_json if 'Major' in e['FamilyCancer']])))\n",
    "\n",
    "\n",
    "preprocess_json = per_patient_data(preprocess_json)\n",
    "unique_values(preprocess_json)\n",
    "print(\"\")\n",
    "print(len(set([e['Patient_id'] for e in preprocess_json if 'Major' == e['FamilyCancer']])))\n",
    "print(len(set([e['Patient_id'] for e in preprocess_json if 'Minor' == e['FamilyCancer']])))\n",
    "print(len(set([e['Patient_id'] for e in preprocess_json])))\n",
    "\n",
    "preprocess_digit_json = digitalize(preprocess_json)\n",
    "unique_values(preprocess_json)\n",
    "print(\"\")\n",
    "\n",
    "\n",
    "\n",
    "# save_json(\"category.json\", preprocess_json)\n",
    "# save_json(\"numeric.json\", preprocess_digit_json)\n"
   ]
  },
  {
   "cell_type": "code",
   "execution_count": 2,
   "metadata": {},
   "outputs": [
    {
     "data": {
      "text/plain": [
       "{'ehr1': {'type': 'uri',\n",
       "  'value': 'http://research.tib.eu/clarify2020/entity/1006645'},\n",
       " 'age': {'type': 'typed-literal',\n",
       "  'datatype': 'http://www.w3.org/2001/XMLSchema#int',\n",
       "  'value': '55'},\n",
       " 'gender': {'type': 'uri',\n",
       "  'value': 'http://research.tib.eu/clarify2020/entity/Female'},\n",
       " 'smoking': {'type': 'uri',\n",
       "  'value': 'http://research.tib.eu/clarify2020/entity/PreviousSmoker'},\n",
       " 'familyType': {'type': 'uri',\n",
       "  'value': 'http://research.tib.eu/clarify2020/entity/Father'},\n",
       " 'CancerType': {'type': 'uri',\n",
       "  'value': 'http://research.tib.eu/clarify2020/entity/Prostate'},\n",
       " 'biomarker': {'type': 'uri',\n",
       "  'value': 'http://research.tib.eu/clarify2020/entity/MET'}}"
      ]
     },
     "execution_count": 2,
     "metadata": {},
     "output_type": "execute_result"
    }
   ],
   "source": [
    "json_data[0]"
   ]
  },
  {
   "cell_type": "code",
   "execution_count": 3,
   "metadata": {},
   "outputs": [
    {
     "data": {
      "text/html": [
       "<div>\n",
       "<style scoped>\n",
       "    .dataframe tbody tr th:only-of-type {\n",
       "        vertical-align: middle;\n",
       "    }\n",
       "\n",
       "    .dataframe tbody tr th {\n",
       "        vertical-align: top;\n",
       "    }\n",
       "\n",
       "    .dataframe thead th {\n",
       "        text-align: right;\n",
       "    }\n",
       "</style>\n",
       "<table border=\"1\" class=\"dataframe\">\n",
       "  <thead>\n",
       "    <tr style=\"text-align: right;\">\n",
       "      <th></th>\n",
       "      <th>age</th>\n",
       "      <th>gender</th>\n",
       "      <th>smoking</th>\n",
       "      <th>biomarker</th>\n",
       "      <th>hasCanceredFamily</th>\n",
       "    </tr>\n",
       "  </thead>\n",
       "  <tbody>\n",
       "    <tr>\n",
       "      <th>0</th>\n",
       "      <td>OLDER</td>\n",
       "      <td>Female</td>\n",
       "      <td>PreviousSmoker</td>\n",
       "      <td>MET</td>\n",
       "      <td>Prostate_Male_1stDegree</td>\n",
       "    </tr>\n",
       "    <tr>\n",
       "      <th>1</th>\n",
       "      <td>OLDER</td>\n",
       "      <td>Female</td>\n",
       "      <td>PreviousSmoker</td>\n",
       "      <td>PDL1</td>\n",
       "      <td>Prostate_Male_1stDegree</td>\n",
       "    </tr>\n",
       "    <tr>\n",
       "      <th>2</th>\n",
       "      <td>OLDER</td>\n",
       "      <td>Female</td>\n",
       "      <td>PreviousSmoker</td>\n",
       "      <td>HER2Mut</td>\n",
       "      <td>Prostate_Male_1stDegree</td>\n",
       "    </tr>\n",
       "    <tr>\n",
       "      <th>3</th>\n",
       "      <td>YOUNGER</td>\n",
       "      <td>Female</td>\n",
       "      <td>NonSmoker</td>\n",
       "      <td>PDL1</td>\n",
       "      <td>Lung_Male_1stDegree</td>\n",
       "    </tr>\n",
       "    <tr>\n",
       "      <th>4</th>\n",
       "      <td>YOUNGER</td>\n",
       "      <td>Female</td>\n",
       "      <td>NonSmoker</td>\n",
       "      <td>PDL1</td>\n",
       "      <td>Colorrectal_Famale_3rdDegree</td>\n",
       "    </tr>\n",
       "  </tbody>\n",
       "</table>\n",
       "</div>"
      ],
      "text/plain": [
       "       age  gender         smoking biomarker             hasCanceredFamily\n",
       "0    OLDER  Female  PreviousSmoker       MET       Prostate_Male_1stDegree\n",
       "1    OLDER  Female  PreviousSmoker      PDL1       Prostate_Male_1stDegree\n",
       "2    OLDER  Female  PreviousSmoker   HER2Mut       Prostate_Male_1stDegree\n",
       "3  YOUNGER  Female       NonSmoker      PDL1           Lung_Male_1stDegree\n",
       "4  YOUNGER  Female       NonSmoker      PDL1  Colorrectal_Famale_3rdDegree"
      ]
     },
     "execution_count": 3,
     "metadata": {},
     "output_type": "execute_result"
    }
   ],
   "source": [
    "import pandas as pd\n",
    "df = pd.DataFrame([{k: v['value'] for k, v in enty.items()}  for enty in json_data])\n",
    "df['age'] = df['age'].apply(lambda x: \"YOUNGER\" if int(x) < 50 else \"OLDER\")\n",
    "for col in df.columns:\n",
    "    df[col] = df[col].apply(lambda x: x.replace(\"http://research.tib.eu/clarify2020/entity/\",\"\"))\n",
    "family_mapping = {\n",
    "        \"UNK\": \"UNK\", \"Father\": \"M1\", \"Mother\": \"F1\", \"Brother\": \"M1\", \"Sister\": \"F1\",\n",
    "        \"Daughter\": \"F1\", \"Son\": \"M1\", \"Uncle\": \"M2\", \"Nephew\": \"M2\", \"Grandfather\": \"M2\",\n",
    "        \"Grandmother\": \"F2\", \"Aunt\": \"F2\", \"Niece\": \"F2\", \"Granddaughter\": \"F2\", \"Grandson\": \"M2\",\n",
    "        \"Grandgrandfather\": \"M3\", \"Grandgrandmother\": \"F3\", \"No\": \"No\", \"Halfsister\": \"F2\",\n",
    "        \"Halfbrother\": \"M2\", \"Female_Cousin\": \"F3\", \"Male_Cousin\": \"M3\", \"NULL\": \"NULL\", \n",
    "        'Granduncle': \"M4\", 'Greatgrandfather': \"M4\", 'Greatgrandmother':\"F4\"\n",
    "    }\n",
    "\n",
    "def translate_f(gender_degree):\n",
    "    r = \"\"\n",
    "    r += 'Male' if \"M\" in gender_degree else \"Famale\"\n",
    "    r += \"_\"\n",
    "    r += \"1stDegree\" if \"1\" in gender_degree else \"2ndDegree\" if \"2\" in gender_degree else \"3rdDegree\"\n",
    "    return r \n",
    "\n",
    "df['familyType'] = df['familyType'].apply(lambda x: translate_f(family_mapping[x]))\n",
    "\n",
    "df[\"hasCanceredFamily\"] = df['CancerType'] + \"_\" + df['familyType']\n",
    "df.drop(columns=['ehr1', 'CancerType','familyType'], inplace=True)\n",
    "\n",
    "from data_utils import generate_tsv\n",
    "generate_tsv(df, '../rule_mining/NSCLP.tsv')\n",
    "\n",
    "df.head()"
   ]
  },
  {
   "cell_type": "markdown",
   "metadata": {},
   "source": []
  },
  {
   "cell_type": "code",
   "execution_count": 4,
   "metadata": {},
   "outputs": [
    {
     "name": "stdout",
     "output_type": "stream",
     "text": [
      "90 22\n"
     ]
    }
   ],
   "source": [
    "ages = [e['age'] for e in process_json]\n",
    "print(max(ages), min(ages))"
   ]
  }
 ],
 "metadata": {
  "kernelspec": {
   "display_name": "rdfenv",
   "language": "python",
   "name": "python3"
  },
  "language_info": {
   "codemirror_mode": {
    "name": "ipython",
    "version": 3
   },
   "file_extension": ".py",
   "mimetype": "text/x-python",
   "name": "python",
   "nbconvert_exporter": "python",
   "pygments_lexer": "ipython3",
   "version": "3.8.19"
  }
 },
 "nbformat": 4,
 "nbformat_minor": 2
}
